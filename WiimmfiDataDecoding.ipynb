{
 "cells": [
  {
   "cell_type": "markdown",
   "id": "project-description",
   "metadata": {},
   "source": [
    "# Wiimmfi Traffic Analysis: Decoding POST Data"
   ]
  },
  {
   "cell_type": "markdown",
   "id": "abe746a0",
   "metadata": {},
   "source": [
    "This section of the notebook is dedicated to decoding the plaintext fields captured from communications of the Wii with the Wiimmfi network. While higher-level encryption (like TLS) has protected data on the Pretendo Network from being unovered, the same cannot be said here, as the bulk of this data relies on simpler encoding methods like Base64.\n",
    "\n",
    "### Script Purpose:\n",
    "\n",
    "This script serves as a utility to decode a specific set of Base64-encoded values, which originate from raw POST data captured from the Wii's network communication.\n",
    "\n",
    "* **`safe_base64_decode(value)` function:** This robust custom function handles Base64 decoding. It intelligently adds missing padding characters (`=`) often omitted in Base64 strings, and includes error handling (`try-except` with `errors='ignore'`) to prevent crashes from malformed data, returning `[Undecodable]` for problematic inputs. This ensures reliable decoding even with imperfect capture data.\n",
    "* **`raw_data` dictionary:** This dictionary represents a captured segment of network data, containing various parameters such as `gamecd` (game code), `passwd` (password), `token`, `macadr` (MAC address), `region`, `country`, and `action`. Each of these values is initially in a Base64-encoded string format.\n",
    "* **Decoding Process:** The script iterates through each key-value pair in the `raw_data` dictionary, applying the `safe_base64_decode` function to convert the Base64 strings into their original, human-readable text.\n",
    "* **Output:** The decoded key-value pairs are then printed, providing clear insight into the actual information being transmitted.\n",
    "\n",
    "**Significance to the Project:**\n",
    "\n",
    "This decoding process is crucial for cybersecurity analysis of aging network infrastructure, particularly in the case of retro gaming services. It highlights that even when higher-level encryption (like TLS) is in use for the main data flow (as observed in our Wireshark traces for Pretendo), **specific parameters or headers might still be simply encoded (not encrypted)**. The presence of fields like \"passwd\" (password) in such a form, even if Base64 is only an encoding, underscores the importance of verifying that these are *always* transmitted within an encrypted tunnel (e.g., inside an HTTPS/TLS connection) to prevent sensitive information from being easily readable by an eavesdropper. This demonstrates a practical step in uncovering and analyzing specific data points within network captures."
   ]
  },
  {
   "cell_type": "code",
   "execution_count": null,
   "id": "efe7aa08",
   "metadata": {},
   "outputs": [
    {
     "name": "stdout",
     "output_type": "stream",
     "text": [
      "gamecd: RVL-RSBJ\n",
      "rhgamecd: RSBP\n",
      "passwd: LeNKXTpZy9Y48swJ\n",
      "token: NDS/SVCLOC/TOKEN/49.180.104.11|GvIkTAeMIdcwl69lrZQ1RNju\n",
      "cfc: 4134081860685363\n",
      "macadr: 182a7b82aadb\n",
      "region: 02\n",
      "country: AU\n",
      "action: count\n",
      "attr1: setting\n"
     ]
    }
   ],
   "source": [
    "import urllib.parse\n",
    "import base64\n",
    "\n",
    "def safe_base64_decode(value):\n",
    "    value += '=' * ((4 - len(value) % 4) % 4)\n",
    "    try:\n",
    "        return base64.b64decode(value).decode('utf-8', errors='ignore')\n",
    "    except:\n",
    "        return '[Undecodable]'\n",
    "\n",
    "# Raw POST data (URL-decoded first) taken from a Wii network capture\n",
    "# Note: In practice, this data would be captured from a network trace, not hardcoded\n",
    "raw_data = {\n",
    "    \"gamecd\": \"UlZMLVJTQko\",\n",
    "    \"rhgamecd\": \"UlNCUA\",\n",
    "    \"passwd\": \"TGVOS1hUcFp5OVk0OHN3Sg\",\n",
    "    \"token\": \"TkRTL1NWQ0xPQy9UT0tFTi80OS4xODAuMTA0LjExfEd2SWtUQWVNSWRjd2w2OWxyWlExUk5qdQ\",\n",
    "    \"cfc\": \"NDEzNDA4MTg2MDY4NTM2Mw\",\n",
    "    \"macadr\": \"MTgyYTdiODJhYWRi\",\n",
    "    \"region\": \"MDI\",\n",
    "    \"country\": \"QVU\",\n",
    "    \"action\": \"Y291bnQ\",\n",
    "    \"attr1\": \"c2V0dGluZw\"\n",
    "}\n",
    "\n",
    "decoded = {k: safe_base64_decode(v) for k, v in raw_data.items()}\n",
    "for k, v in decoded.items():\n",
    "    print(f\"{k}: {v}\")\n"
   ]
  }
 ],
 "metadata": {
  "kernelspec": {
   "display_name": "Python 3",
   "language": "python",
   "name": "python3"
  },
  "language_info": {
   "codemirror_mode": {
    "name": "ipython",
    "version": 3
   },
   "file_extension": ".py",
   "mimetype": "text/x-python",
   "name": "python",
   "nbconvert_exporter": "python",
   "pygments_lexer": "ipython3",
   "version": "3.11.0"
  }
 },
 "nbformat": 4,
 "nbformat_minor": 5
}
